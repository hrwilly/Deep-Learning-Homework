{
 "cells": [
  {
   "cell_type": "markdown",
   "id": "729c4b3d-10e9-4da2-b78e-6b3813e5d7d9",
   "metadata": {},
   "source": [
    "# IMPROVEMENTS I'VE DISCOVERED NEED FIXING (There could be more):\n",
    "- multi step V0, should be treated like one step and simplify just down to x0 but right now does not\n",
    "- multi step updating the value of V(t-1)\n",
    "- multi step needs to do both LS and TvR, right now only does LS\n",
    "- I calculated the beta coefficients different for one step and multi step, not sure which is correct"
   ]
  },
  {
   "cell_type": "markdown",
   "id": "8161f1fb-1a38-4738-92a7-c222d516cfdf",
   "metadata": {},
   "source": [
    "### Initial Set Up: Loading libraries and setting initial variables"
   ]
  },
  {
   "cell_type": "code",
   "execution_count": 1,
   "id": "08bee1b2-a167-40b1-8c0d-e10404d289f2",
   "metadata": {},
   "outputs": [],
   "source": [
    "import numpy as np\n",
    "import polars as pl\n",
    "import scipy"
   ]
  },
  {
   "cell_type": "code",
   "execution_count": 16,
   "id": "1494ec78-9d18-45f6-8de1-fb796f11ec0c",
   "metadata": {},
   "outputs": [],
   "source": [
    "r = 0.01\n",
    "sigma = 0.1\n",
    "T = 1\n",
    "K = 95\n",
    "S0 = 100\n",
    "n = 100\n",
    "N = 10"
   ]
  },
  {
   "cell_type": "markdown",
   "id": "71037d7c-cc4c-4350-b0a8-12442259e6e3",
   "metadata": {},
   "source": [
    "### a. One step"
   ]
  },
  {
   "cell_type": "code",
   "execution_count": 3,
   "id": "09a01ae7-0c52-422a-9a54-463a1bbb4fd1",
   "metadata": {},
   "outputs": [],
   "source": [
    "def form_paths(S0):\n",
    "\n",
    "    Z = np.random.normal(0, 1, N)\n",
    "    ST = S0 * np.exp((delta_T * (r - 0.5 * sigma**2)) + (sigma * np.sqrt(delta_T) * Z))\n",
    "\n",
    "    return ST\n",
    "\n",
    "def regression(row):\n",
    "    x = pl.DataFrame({'X' : row['X0']})\n",
    "    y = pl.DataFrame({'VT' : row['VT']})\n",
    "    beta = scipy.linalg.lstsq(x, y)[0]\n",
    "    return beta"
   ]
  },
  {
   "cell_type": "code",
   "execution_count": 8,
   "id": "85a82981-478f-403f-9848-d017944d98c0",
   "metadata": {},
   "outputs": [],
   "source": [
    "delta_T = T\n",
    "\n",
    "paths = pl.DataFrame({'path_number' : np.arange(1, N+1), 'S0' : [S0]*N})\n",
    "stocks = paths.with_columns(pl.col('S0').map_batches(form_paths).alias('ST'), np.zeros(N))\n",
    "stocks = stocks.with_columns(pl.max_horizontal(pl.lit(K) - pl.col('ST'), pl.col('literal')).alias('VT'),\n",
    "                             pl.max_horizontal(pl.lit(K) - pl.col('S0'), pl.col('literal')).alias('V0'))\n",
    "\n",
    "X_mat = stocks.select('path_number', np.ones(N), 'S0',\n",
    "                     (pl.col('S0')**2).alias('X2'),\n",
    "                     (pl.col('S0')**3).alias('X3'),\n",
    "                     (pl.col('S0')**4).alias('X4'),\n",
    "                     (pl.col('S0')**5).alias('X5')).rename({'literal' : 'X0', 'S0' : 'X1'})\n",
    "\n",
    "reg_mat = X_mat.join(stocks.select('path_number', 'VT'), on = 'path_number')\n",
    "reg_mat = reg_mat.with_columns(pl.struct(['X0', 'VT']).alias('struct'))\n",
    "reg_mat = reg_mat.with_columns(pl.col('struct').map_elements(regression, return_dtype = pl.Float64).alias('Beta')).drop('struct')\n",
    "reg_mat = reg_mat.with_columns((pl.col('Beta') * pl.col('X0')).alias('VT_est'))\n",
    "\n",
    "stock_values = stocks.join(reg_mat.select('path_number', 'VT_est'), on = 'path_number').drop('VT', 'literal')\n",
    "stock_values = stock_values.with_columns((np.exp(-r*delta_T) * pl.col('VT_est')).alias('Disc_VT_est'))"
   ]
  },
  {
   "cell_type": "markdown",
   "id": "f53c7881-94e7-4479-80a6-67061e5886af",
   "metadata": {},
   "source": [
    "### LS Method"
   ]
  },
  {
   "cell_type": "code",
   "execution_count": 8,
   "id": "c955973e-ada0-4d4e-8d68-6d78b1d98e3e",
   "metadata": {},
   "outputs": [
    {
     "data": {
      "text/html": [
       "<div><style>\n",
       ".dataframe > thead > tr,\n",
       ".dataframe > tbody > tr {\n",
       "  text-align: right;\n",
       "  white-space: pre-wrap;\n",
       "}\n",
       "</style>\n",
       "<small>shape: (1, 1)</small><table border=\"1\" class=\"dataframe\"><thead><tr><th>LS Value</th></tr><tr><td>f64</td></tr></thead><tbody><tr><td>0.371466</td></tr></tbody></table></div>"
      ],
      "text/plain": [
       "shape: (1, 1)\n",
       "┌──────────┐\n",
       "│ LS Value │\n",
       "│ ---      │\n",
       "│ f64      │\n",
       "╞══════════╡\n",
       "│ 0.371466 │\n",
       "└──────────┘"
      ]
     },
     "execution_count": 8,
     "metadata": {},
     "output_type": "execute_result"
    }
   ],
   "source": [
    "stock_values_ls = stock_values.with_columns(pl.when(pl.col('V0') > pl.col('Disc_VT_est'))\n",
    "                                              .then('V0')\n",
    "                                              .otherwise('Disc_VT_est').alias('V0_est'))\n",
    "\n",
    "stock_values_ls = stock_values_ls.with_columns(pl.max_horizontal(pl.col('V0'), pl.col('V0_est')).alias('LS Value'))\n",
    "stock_values_ls = stock_values_ls.select('LS Value').mean()\n",
    "\n",
    "stock_values_ls"
   ]
  },
  {
   "cell_type": "markdown",
   "id": "d74f3510-3b65-4f90-bd95-c2166e35a154",
   "metadata": {},
   "source": [
    "### TvR Method"
   ]
  },
  {
   "cell_type": "code",
   "execution_count": 9,
   "id": "da1fc0f3-c4ae-435f-8251-150f92cb8357",
   "metadata": {},
   "outputs": [
    {
     "data": {
      "text/html": [
       "<div><style>\n",
       ".dataframe > thead > tr,\n",
       ".dataframe > tbody > tr {\n",
       "  text-align: right;\n",
       "  white-space: pre-wrap;\n",
       "}\n",
       "</style>\n",
       "<small>shape: (1, 1)</small><table border=\"1\" class=\"dataframe\"><thead><tr><th>TvR Value</th></tr><tr><td>f64</td></tr></thead><tbody><tr><td>0.371466</td></tr></tbody></table></div>"
      ],
      "text/plain": [
       "shape: (1, 1)\n",
       "┌───────────┐\n",
       "│ TvR Value │\n",
       "│ ---       │\n",
       "│ f64       │\n",
       "╞═══════════╡\n",
       "│ 0.371466  │\n",
       "└───────────┘"
      ]
     },
     "execution_count": 9,
     "metadata": {},
     "output_type": "execute_result"
    }
   ],
   "source": [
    "stock_values_tvr = stock_values.with_columns(pl.max_horizontal(pl.col('V0'), pl.col('Disc_VT_est')).alias('V0_est'))\n",
    "\n",
    "stock_values_tvr = stock_values_tvr.with_columns(pl.max_horizontal(pl.col('V0'), pl.col('V0_est')).alias('TvR Value'))\n",
    "stock_values_tvr = stock_values_tvr.select('TvR Value').mean()\n",
    "\n",
    "stock_values_tvr"
   ]
  },
  {
   "cell_type": "markdown",
   "id": "668d298f-3bae-40e1-bb80-2d50bd8ee670",
   "metadata": {},
   "source": [
    "### b. Multi-Step"
   ]
  },
  {
   "cell_type": "code",
   "execution_count": 56,
   "id": "fa3956b7-c9e0-4f1c-85f7-1a99b6096e66",
   "metadata": {},
   "outputs": [],
   "source": [
    "n = 5\n",
    "delta_T = T / n\n",
    "\n",
    "paths = pl.DataFrame({'path_number' : np.arange(1, N+1), 'Zeros' : np.zeros(N), 'St_0' : [S0]*N})\n",
    "Z = np.random.normal(0, 1, (N, n))\n",
    "vals = pl.DataFrame({'path_number' : np.arange(1, N+1)})\n",
    "\n",
    "for i in range(1, n+1):\n",
    "    next_step = paths['St_'+str(i-1)][-N:] * np.exp((delta_T * (r - 0.5 * sigma**2)) + (sigma * np.sqrt(delta_T) * Z[:, i-1]))\n",
    "    next_step = pl.DataFrame({'path_number' : np.arange(1, N+1), 'St_'+str(i) : next_step})\n",
    "    paths = paths.join(next_step, on = 'path_number')\n",
    "\n",
    "for i in range(n, 0, -1):\n",
    "    stocks = paths.with_columns(pl.max_horizontal(pl.lit(K) - pl.col('St_' + str(i)), pl.col('Zeros')).alias('Vt_' + str(i)),\n",
    "                                 pl.max_horizontal(pl.lit(K) - pl.col('St_' + str(i-1)), pl.col('Zeros')).alias('Vt_' + str(i-1)))\n",
    "    \n",
    "    X_mat = stocks.select('path_number', np.ones(N), 'St_' + str(i-1),\n",
    "                         (pl.col('St_' + str(i-1))**2).alias('X2'),\n",
    "                         (pl.col('St_' + str(i-1))**3).alias('X3'),\n",
    "                         (pl.col('St_' + str(i-1))**4).alias('X4'),\n",
    "                         (pl.col('St_' + str(i-1))**5).alias('X5')).rename({'literal' : 'X0', 'St_' + str(i-1) : 'X1'})\n",
    "    \n",
    "    beta = scipy.linalg.lstsq(X_mat.drop('path_number'), stocks['Vt_' + str(i)])[0]\n",
    "    \n",
    "    reg_mat = X_mat.join(stocks.select('path_number', 'Vt_' + str(i)), on = 'path_number')\n",
    "    reg_mat = reg_mat.with_columns((pl.col('X0') * beta[0] + \n",
    "                                    pl.col('X1') * beta[1] + \n",
    "                                    pl.col('X2') * beta[2] + \n",
    "                                    pl.col('X3') * beta[3] + \n",
    "                                    pl.col('X4') * beta[4] + \n",
    "                                    pl.col('X5') * beta[5]).alias('Vt_' + str(i) +'_est'))\n",
    "    \n",
    "    stock_values = stocks.join(reg_mat.select('path_number', 'Vt_' + str(i) + '_est'), on = 'path_number').drop('Vt_' + str(i), 'Zeros')\n",
    "    stock_values = stock_values.with_columns((np.exp(-r*delta_T) * pl.col('Vt_' + str(i) + '_est')).alias('Disc_Vt_' + str(i) + '_est'))\n",
    "    \n",
    "    stock_values_ls = stock_values.with_columns(pl.when(pl.col('Vt_' + str(i-1)) > pl.col('Disc_Vt_' + str(i) + '_est'))\n",
    "                                                  .then('Vt_' + str(i-1))\n",
    "                                                  .otherwise('Disc_Vt_' + str(i) + '_est').alias('Vt_' + str(i-1) + '_est'))\n",
    "\n",
    "    # THIS UPDATING IS WRONG AND IDK HOW TO FIX IT\n",
    "    paths = paths.with_columns(stock_values_ls['Vt_' + str(i-1) + '_est'].alias('St_' + str(i-1)))\n",
    "    new_val = pl.DataFrame({'path_number' : np.arange(1, N+1), 'Vt_' + str(i-1) : stock_values_ls['Vt_' + str(i-1) + '_est']})\n",
    "\n",
    "    vals = vals.join(new_val, on = 'path_number')"
   ]
  },
  {
   "cell_type": "code",
   "execution_count": 54,
   "id": "e70a6e1b-d45f-402a-a1ed-1b8d26368ada",
   "metadata": {},
   "outputs": [
    {
     "data": {
      "text/html": [
       "<div><style>\n",
       ".dataframe > thead > tr,\n",
       ".dataframe > tbody > tr {\n",
       "  text-align: right;\n",
       "  white-space: pre-wrap;\n",
       "}\n",
       "</style>\n",
       "<small>shape: (10, 6)</small><table border=\"1\" class=\"dataframe\"><thead><tr><th>path_number</th><th>Vt_4</th><th>Vt_3</th><th>Vt_2</th><th>Vt_1</th><th>Vt_0</th></tr><tr><td>i32</td><td>f64</td><td>f64</td><td>f64</td><td>f64</td><td>f64</td></tr></thead><tbody><tr><td>1</td><td>4.322627</td><td>92.840615</td><td>1.147168</td><td>93.426591</td><td>1.265444</td></tr><tr><td>2</td><td>0.559139</td><td>93.162425</td><td>1.511217</td><td>93.467963</td><td>1.265444</td></tr><tr><td>3</td><td>0.0</td><td>94.602488</td><td>1.395872</td><td>93.514208</td><td>1.265444</td></tr><tr><td>4</td><td>0.176801</td><td>94.921179</td><td>1.030349</td><td>93.691895</td><td>1.265444</td></tr><tr><td>5</td><td>0.955111</td><td>92.880852</td><td>1.46417</td><td>93.355116</td><td>1.265444</td></tr><tr><td>6</td><td>0.0</td><td>94.943592</td><td>0.05387</td><td>94.339118</td><td>1.265444</td></tr><tr><td>7</td><td>0.723279</td><td>93.81374</td><td>1.368154</td><td>93.699363</td><td>1.265444</td></tr><tr><td>8</td><td>0.131408</td><td>94.611159</td><td>1.433813</td><td>93.491541</td><td>1.265444</td></tr><tr><td>9</td><td>2.062386</td><td>92.518632</td><td>1.219628</td><td>94.339833</td><td>1.265444</td></tr><tr><td>10</td><td>0.0</td><td>94.910931</td><td>0.153125</td><td>93.994603</td><td>1.265444</td></tr></tbody></table></div>"
      ],
      "text/plain": [
       "shape: (10, 6)\n",
       "┌─────────────┬──────────┬───────────┬──────────┬───────────┬──────────┐\n",
       "│ path_number ┆ Vt_4     ┆ Vt_3      ┆ Vt_2     ┆ Vt_1      ┆ Vt_0     │\n",
       "│ ---         ┆ ---      ┆ ---       ┆ ---      ┆ ---       ┆ ---      │\n",
       "│ i32         ┆ f64      ┆ f64       ┆ f64      ┆ f64       ┆ f64      │\n",
       "╞═════════════╪══════════╪═══════════╪══════════╪═══════════╪══════════╡\n",
       "│ 1           ┆ 4.322627 ┆ 92.840615 ┆ 1.147168 ┆ 93.426591 ┆ 1.265444 │\n",
       "│ 2           ┆ 0.559139 ┆ 93.162425 ┆ 1.511217 ┆ 93.467963 ┆ 1.265444 │\n",
       "│ 3           ┆ 0.0      ┆ 94.602488 ┆ 1.395872 ┆ 93.514208 ┆ 1.265444 │\n",
       "│ 4           ┆ 0.176801 ┆ 94.921179 ┆ 1.030349 ┆ 93.691895 ┆ 1.265444 │\n",
       "│ 5           ┆ 0.955111 ┆ 92.880852 ┆ 1.46417  ┆ 93.355116 ┆ 1.265444 │\n",
       "│ 6           ┆ 0.0      ┆ 94.943592 ┆ 0.05387  ┆ 94.339118 ┆ 1.265444 │\n",
       "│ 7           ┆ 0.723279 ┆ 93.81374  ┆ 1.368154 ┆ 93.699363 ┆ 1.265444 │\n",
       "│ 8           ┆ 0.131408 ┆ 94.611159 ┆ 1.433813 ┆ 93.491541 ┆ 1.265444 │\n",
       "│ 9           ┆ 2.062386 ┆ 92.518632 ┆ 1.219628 ┆ 94.339833 ┆ 1.265444 │\n",
       "│ 10          ┆ 0.0      ┆ 94.910931 ┆ 0.153125 ┆ 93.994603 ┆ 1.265444 │\n",
       "└─────────────┴──────────┴───────────┴──────────┴───────────┴──────────┘"
      ]
     },
     "execution_count": 54,
     "metadata": {},
     "output_type": "execute_result"
    }
   ],
   "source": [
    "vals"
   ]
  },
  {
   "cell_type": "code",
   "execution_count": null,
   "id": "0097cc86-ccbb-40a0-b448-615bbe4fb63a",
   "metadata": {},
   "outputs": [],
   "source": []
  }
 ],
 "metadata": {
  "kernelspec": {
   "display_name": "Python 3 (ipykernel)",
   "language": "python",
   "name": "python3"
  },
  "language_info": {
   "codemirror_mode": {
    "name": "ipython",
    "version": 3
   },
   "file_extension": ".py",
   "mimetype": "text/x-python",
   "name": "python",
   "nbconvert_exporter": "python",
   "pygments_lexer": "ipython3",
   "version": "3.10.13"
  }
 },
 "nbformat": 4,
 "nbformat_minor": 5
}
