{
 "cells": [
  {
   "cell_type": "code",
   "execution_count": 1,
   "id": "08bee1b2-a167-40b1-8c0d-e10404d289f2",
   "metadata": {},
   "outputs": [],
   "source": [
    "import numpy as np"
   ]
  },
  {
   "cell_type": "code",
   "execution_count": null,
   "id": "1494ec78-9d18-45f6-8de1-fb796f11ec0c",
   "metadata": {},
   "outputs": [],
   "source": [
    "# Just filling in space so theres something to commit to git"
   ]
  }
 ],
 "metadata": {
  "kernelspec": {
   "display_name": "Python 3 (ipykernel)",
   "language": "python",
   "name": "python3"
  },
  "language_info": {
   "codemirror_mode": {
    "name": "ipython",
    "version": 3
   },
   "file_extension": ".py",
   "mimetype": "text/x-python",
   "name": "python",
   "nbconvert_exporter": "python",
   "pygments_lexer": "ipython3",
   "version": "3.10.13"
  }
 },
 "nbformat": 4,
 "nbformat_minor": 5
}
