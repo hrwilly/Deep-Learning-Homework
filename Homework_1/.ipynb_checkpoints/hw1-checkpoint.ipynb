{
 "cells": [
  {
   "cell_type": "markdown",
   "id": "8161f1fb-1a38-4738-92a7-c222d516cfdf",
   "metadata": {},
   "source": [
    "### Initial Set Up: Loading libraries and setting initial variables"
   ]
  },
  {
   "cell_type": "code",
   "execution_count": 1,
   "id": "08bee1b2-a167-40b1-8c0d-e10404d289f2",
   "metadata": {},
   "outputs": [],
   "source": [
    "import numpy as np\n",
    "import polars as pl\n",
    "import scipy"
   ]
  },
  {
   "cell_type": "code",
   "execution_count": 2,
   "id": "1494ec78-9d18-45f6-8de1-fb796f11ec0c",
   "metadata": {},
   "outputs": [],
   "source": [
    "r = 0.01\n",
    "sigma = 0.1\n",
    "T = 1\n",
    "K = 95\n",
    "S0 = 100\n",
    "n = 100\n",
    "N = 100000"
   ]
  },
  {
   "cell_type": "markdown",
   "id": "71037d7c-cc4c-4350-b0a8-12442259e6e3",
   "metadata": {},
   "source": [
    "### a. One step"
   ]
  },
  {
   "cell_type": "code",
   "execution_count": 3,
   "id": "09a01ae7-0c52-422a-9a54-463a1bbb4fd1",
   "metadata": {},
   "outputs": [],
   "source": [
    "def form_paths(S0):\n",
    "\n",
    "    Z = np.random.normal(0, 1, N)\n",
    "    ST = S0 * np.exp((delta_T * (r - 0.5 * sigma**2)) + (sigma * np.sqrt(T) * Z))\n",
    "\n",
    "    return ST\n",
    "\n",
    "def regression(row):\n",
    "    x = pl.DataFrame({'X' : row['X0']})\n",
    "    y = pl.DataFrame({'Payoff' : row['Payoff']})\n",
    "    beta = scipy.linalg.lstsq(x, y)[0]\n",
    "    return beta"
   ]
  },
  {
   "cell_type": "code",
   "execution_count": 7,
   "id": "85a82981-478f-403f-9848-d017944d98c0",
   "metadata": {},
   "outputs": [],
   "source": [
    "delta_T = T\n",
    "\n",
    "paths = pl.DataFrame({'path_number' : np.arange(1, N+1), 'S0' : [S0]*N})\n",
    "stocks = paths.with_columns(pl.col('S0').map_batches(form_paths).alias('ST'), np.zeros(N))\n",
    "stocks = stocks.with_columns(pl.max_horizontal(pl.lit(K) - pl.col('ST'), pl.col('literal')).alias('Payoff'),\n",
    "                             pl.max_horizontal(pl.lit(K) - pl.col('S0'), pl.col('literal')).alias('Immediate Payoff'))\n",
    "\n",
    "X_mat = stocks.select('path_number', np.ones(N), 'S0',\n",
    "                     (pl.col('S0')**2).alias('X2'),\n",
    "                     (pl.col('S0')**3).alias('X3'),\n",
    "                     (pl.col('S0')**4).alias('X4'),\n",
    "                     (pl.col('S0')**5).alias('X5')).rename({'literal' : 'X0', 'S0' : 'X1'})\n",
    "\n",
    "reg_mat = X_mat.join(stocks.select('path_number', 'Payoff'), on = 'path_number')\n",
    "reg_mat = reg_mat.with_columns(pl.struct(['X0', 'Payoff']).alias('struct'))\n",
    "reg_mat = reg_mat.with_columns(pl.col('struct').map_elements(regression, return_dtype = pl.Float64).alias('Beta')).drop('struct')\n",
    "reg_mat = reg_mat.with_columns((pl.col('Beta') * pl.col('X0')).alias('VT'))\n",
    "\n",
    "stock_values = stocks.join(reg_mat.select('path_number', 'VT'), on = 'path_number').drop('Payoff', 'literal')\n",
    "stock_values = stock_values.with_columns((np.exp(-r*delta_T) * pl.col('VT')).alias('Discounted Future Payoff'))"
   ]
  },
  {
   "cell_type": "markdown",
   "id": "f53c7881-94e7-4479-80a6-67061e5886af",
   "metadata": {},
   "source": [
    "### LS Method"
   ]
  },
  {
   "cell_type": "code",
   "execution_count": 8,
   "id": "c955973e-ada0-4d4e-8d68-6d78b1d98e3e",
   "metadata": {},
   "outputs": [
    {
     "data": {
      "text/html": [
       "<div><style>\n",
       ".dataframe > thead > tr,\n",
       ".dataframe > tbody > tr {\n",
       "  text-align: right;\n",
       "  white-space: pre-wrap;\n",
       "}\n",
       "</style>\n",
       "<small>shape: (1, 1)</small><table border=\"1\" class=\"dataframe\"><thead><tr><th>LS Value</th></tr><tr><td>f64</td></tr></thead><tbody><tr><td>1.611315</td></tr></tbody></table></div>"
      ],
      "text/plain": [
       "shape: (1, 1)\n",
       "┌──────────┐\n",
       "│ LS Value │\n",
       "│ ---      │\n",
       "│ f64      │\n",
       "╞══════════╡\n",
       "│ 1.611315 │\n",
       "└──────────┘"
      ]
     },
     "execution_count": 8,
     "metadata": {},
     "output_type": "execute_result"
    }
   ],
   "source": [
    "stock_values_ls = stock_values.with_columns(pl.when(pl.col('Immediate Payoff') > pl.col('Discounted Future Payoff'))\n",
    "                                              .then('Immediate Payoff')\n",
    "                                              .otherwise('Discounted Future Payoff').alias('V0'))\n",
    "\n",
    "stock_values_ls = stock_values_ls.with_columns(pl.max_horizontal(pl.col('Immediate Payoff'), pl.col('V0')).alias('LS Value'))\n",
    "stock_values_ls = stock_values_ls.select('LS Value').mean()\n",
    "\n",
    "stock_values_ls"
   ]
  },
  {
   "cell_type": "markdown",
   "id": "d74f3510-3b65-4f90-bd95-c2166e35a154",
   "metadata": {},
   "source": [
    "### TvR Method"
   ]
  },
  {
   "cell_type": "code",
   "execution_count": 9,
   "id": "da1fc0f3-c4ae-435f-8251-150f92cb8357",
   "metadata": {},
   "outputs": [
    {
     "data": {
      "text/html": [
       "<div><style>\n",
       ".dataframe > thead > tr,\n",
       ".dataframe > tbody > tr {\n",
       "  text-align: right;\n",
       "  white-space: pre-wrap;\n",
       "}\n",
       "</style>\n",
       "<small>shape: (1, 1)</small><table border=\"1\" class=\"dataframe\"><thead><tr><th>TvR Value</th></tr><tr><td>f64</td></tr></thead><tbody><tr><td>1.611315</td></tr></tbody></table></div>"
      ],
      "text/plain": [
       "shape: (1, 1)\n",
       "┌───────────┐\n",
       "│ TvR Value │\n",
       "│ ---       │\n",
       "│ f64       │\n",
       "╞═══════════╡\n",
       "│ 1.611315  │\n",
       "└───────────┘"
      ]
     },
     "execution_count": 9,
     "metadata": {},
     "output_type": "execute_result"
    }
   ],
   "source": [
    "stock_values_tvr = stock_values.with_columns(pl.max_horizontal(pl.col('Immediate Payoff'), pl.col('Discounted Future Payoff')).alias('V0'))\n",
    "\n",
    "stock_values_tvr = stock_values_tvr.with_columns(pl.max_horizontal(pl.col('Immediate Payoff'), pl.col('V0')).alias('TvR Value'))\n",
    "stock_values_tvr = stock_values_tvr.select('TvR Value').mean()\n",
    "\n",
    "stock_values_tvr"
   ]
  },
  {
   "cell_type": "code",
   "execution_count": null,
   "id": "63cb203f-04ee-478c-9ed0-b9a7813ebabb",
   "metadata": {},
   "outputs": [],
   "source": []
  }
 ],
 "metadata": {
  "kernelspec": {
   "display_name": "Python 3 (ipykernel)",
   "language": "python",
   "name": "python3"
  },
  "language_info": {
   "codemirror_mode": {
    "name": "ipython",
    "version": 3
   },
   "file_extension": ".py",
   "mimetype": "text/x-python",
   "name": "python",
   "nbconvert_exporter": "python",
   "pygments_lexer": "ipython3",
   "version": "3.10.13"
  }
 },
 "nbformat": 4,
 "nbformat_minor": 5
}
